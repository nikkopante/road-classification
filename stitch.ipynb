{
 "cells": [
  {
   "cell_type": "code",
   "execution_count": 5,
   "id": "7da77f92-9e6f-466e-a0e2-795463ea9994",
   "metadata": {},
   "outputs": [
    {
     "name": "stdout",
     "output_type": "stream",
     "text": [
      "Requirement already satisfied: pillow-heif in c:\\users\\user-307e7b3400\\anaconda3\\envs\\newenv\\lib\\site-packages (0.21.0)\n",
      "Requirement already satisfied: pillow>=10.1.0 in c:\\users\\user-307e7b3400\\anaconda3\\envs\\newenv\\lib\\site-packages (from pillow-heif) (10.4.0)\n",
      "Note: you may need to restart the kernel to use updated packages.\n"
     ]
    }
   ],
   "source": [
    "pip install pillow-heif"
   ]
  },
  {
   "cell_type": "code",
   "execution_count": 11,
   "id": "cc09de44-f117-4c13-b1ca-65b68a5fd27c",
   "metadata": {},
   "outputs": [
    {
     "name": "stdout",
     "output_type": "stream",
     "text": [
      "Requirement already satisfied: opencv-python in c:\\users\\user-307e7b3400\\anaconda3\\envs\\newenv\\lib\\site-packages (4.11.0.86)\n",
      "Requirement already satisfied: numpy>=1.21.2 in c:\\users\\user-307e7b3400\\anaconda3\\envs\\newenv\\lib\\site-packages (from opencv-python) (1.26.4)\n",
      "Note: you may need to restart the kernel to use updated packages.\n"
     ]
    }
   ],
   "source": [
    "pip install --upgrade opencv-python"
   ]
  },
  {
   "cell_type": "code",
   "execution_count": 12,
   "id": "e2fafc72-b974-4ebf-907d-098a58844f81",
   "metadata": {},
   "outputs": [
    {
     "name": "stdout",
     "output_type": "stream",
     "text": [
      "Stitched image saved as 'stitched_output.jpg'\n"
     ]
    }
   ],
   "source": [
    "import cv2\n",
    "import os\n",
    "from PIL import Image\n",
    "from PIL.ExifTags import TAGS\n",
    "import datetime\n",
    "import pillow_heif\n",
    "import numpy as np\n",
    "\n",
    "# Function to extract the timestamp from EXIF metadata\n",
    "def get_exif_timestamp(image_path):\n",
    "    image = Image.open(image_path)\n",
    "    exif_data = image._getexif()\n",
    "    if exif_data is not None:\n",
    "        for tag, value in exif_data.items():\n",
    "            if TAGS.get(tag) == 'DateTime':\n",
    "                return value\n",
    "    return None\n",
    "\n",
    "# Function to read .HEIC images using pillow-heif\n",
    "def read_heic_image(image_path):\n",
    "    # Use pillow to open the HEIC file with pillow-heif's support\n",
    "    image_data = Image.open(image_path)\n",
    "    image_np = np.array(image_data)  # Convert PIL image to NumPy array\n",
    "    return image_np\n",
    "\n",
    "# Function to filter images based on date and time\n",
    "def filter_images_by_time(images_dir, start_time=\"21:00\", end_time=\"22:00\"):\n",
    "    filtered_images = []\n",
    "    start_time = datetime.datetime.strptime(start_time, \"%H:%M\").time()\n",
    "    end_time = datetime.datetime.strptime(end_time, \"%H:%M\").time()\n",
    "    \n",
    "    for filename in os.listdir(images_dir):\n",
    "        if filename.lower().endswith(('.jpg', '.jpeg', '.png', '.heic')):  # Include HEIC files\n",
    "            file_path = os.path.join(images_dir, filename)\n",
    "            timestamp = get_exif_timestamp(file_path)\n",
    "            \n",
    "            if timestamp:\n",
    "                try:\n",
    "                    # Convert EXIF timestamp to datetime object\n",
    "                    timestamp = datetime.datetime.strptime(timestamp, \"%Y:%m:%d %H:%M:%S\")\n",
    "                    image_time = timestamp.time()\n",
    "                    \n",
    "                    # Filter images based on the time range\n",
    "                    if start_time <= image_time <= end_time:\n",
    "                        filtered_images.append(file_path)\n",
    "                except ValueError:\n",
    "                    pass\n",
    "    \n",
    "    return filtered_images\n",
    "\n",
    "# Function to stitch images\n",
    "def stitch_images(images_list):\n",
    "    images = []\n",
    "    \n",
    "    # Read images (handling HEIC files)\n",
    "    for img_path in images_list:\n",
    "        if img_path.lower().endswith('.heic'):\n",
    "            img = read_heic_image(img_path)\n",
    "        else:\n",
    "            img = cv2.imread(img_path)\n",
    "        images.append(img)\n",
    "    \n",
    "    # Stitch images using OpenCV's Stitcher API\n",
    "    stitcher = cv2.Stitcher_create()  # Correct API for OpenCV 4.5.1+\n",
    "    status, stitched_image = stitcher.stitch(images)\n",
    "    \n",
    "    if status == cv2.Stitcher_OK:\n",
    "        return stitched_image\n",
    "    else:\n",
    "        print(\"Error during stitching:\", status)\n",
    "        return None\n",
    "\n",
    "# Main function to process and stitch images\n",
    "def main(images_dir):\n",
    "    # Filter images based on EXIF timestamp\n",
    "    filtered_images = filter_images_by_time(images_dir)\n",
    "    \n",
    "    if len(filtered_images) > 1:\n",
    "        # Stitch images if there are more than one filtered image\n",
    "        stitched_image = stitch_images(filtered_images)\n",
    "        if stitched_image is not None:\n",
    "            # Save or display the stitched image\n",
    "            cv2.imwrite(\"stitched_output.jpg\", stitched_image)\n",
    "            print(\"Stitched image saved as 'stitched_output.jpg'\")\n",
    "        else:\n",
    "            print(\"Failed to stitch images.\")\n",
    "    else:\n",
    "        print(\"Not enough images to stitch (must be more than one).\")\n",
    "\n",
    "if __name__ == \"__main__\":\n",
    "    # Directory containing images (update this path to your folder)\n",
    "    images_dir = \"C:/Users/user-307E7B3400/Downloads/drive-download-20250117T123348Z-001/\"  # Update this path\n",
    "    main(images_dir)\n"
   ]
  },
  {
   "cell_type": "code",
   "execution_count": 13,
   "id": "f9c2b1f5-30e6-4c1a-a090-70964f4da463",
   "metadata": {},
   "outputs": [
    {
     "name": "stdout",
     "output_type": "stream",
     "text": [
      "Current working directory: C:\\Users\\user-307E7B3400\n"
     ]
    }
   ],
   "source": [
    "import os\n",
    "print(\"Current working directory:\", os.getcwd())\n"
   ]
  },
  {
   "cell_type": "code",
   "execution_count": 10,
   "id": "63ede984-d414-40c3-a317-9ff7dce4dde4",
   "metadata": {},
   "outputs": [
    {
     "name": "stdout",
     "output_type": "stream",
     "text": [
      "Collage image saved as 'collage_output_strip.jpg'\n"
     ]
    }
   ],
   "source": [
    "import cv2\n",
    "import os\n",
    "from PIL import Image\n",
    "from PIL.ExifTags import TAGS\n",
    "import datetime\n",
    "import pillow_heif\n",
    "import numpy as np\n",
    "\n",
    "# Function to extract the timestamp from EXIF metadata\n",
    "def get_exif_timestamp(image_path):\n",
    "    image = Image.open(image_path)\n",
    "    exif_data = image._getexif()\n",
    "    if exif_data is not None:\n",
    "        for tag, value in exif_data.items():\n",
    "            if TAGS.get(tag) == 'DateTime':\n",
    "                return value\n",
    "    return None\n",
    "\n",
    "# Function to read .HEIC images using pillow-heif\n",
    "def read_heic_image(image_path):\n",
    "    # Use pillow to open the HEIC file with pillow-heif's support\n",
    "    image_data = Image.open(image_path)\n",
    "    image_np = np.array(image_data)  # Convert PIL image to NumPy array\n",
    "    return image_np\n",
    "\n",
    "# Function to filter images based on date and time\n",
    "def filter_images_by_time(images_dir, start_time=\"21:00\", end_time=\"22:00\"):\n",
    "    filtered_images = []\n",
    "    start_time = datetime.datetime.strptime(start_time, \"%H:%M\").time()\n",
    "    end_time = datetime.datetime.strptime(end_time, \"%H:%M\").time()\n",
    "    \n",
    "    for filename in os.listdir(images_dir):\n",
    "        if filename.lower().endswith(('.jpg', '.jpeg', '.png', '.heic')):  # Include HEIC files\n",
    "            file_path = os.path.join(images_dir, filename)\n",
    "            timestamp = get_exif_timestamp(file_path)\n",
    "            \n",
    "            if timestamp:\n",
    "                try:\n",
    "                    # Convert EXIF timestamp to datetime object\n",
    "                    timestamp = datetime.datetime.strptime(timestamp, \"%Y:%m:%d %H:%M:%S\")\n",
    "                    image_time = timestamp.time()\n",
    "                    \n",
    "                    # Filter images based on the time range\n",
    "                    if start_time <= image_time <= end_time:\n",
    "                        filtered_images.append(file_path)\n",
    "                except ValueError:\n",
    "                    pass\n",
    "    \n",
    "    return filtered_images\n",
    "\n",
    "# Function to create a strip collage (either horizontal or vertical)\n",
    "def create_strip_collage(images_list, collage_width=500, collage_height=500, orientation='horizontal'):\n",
    "    images = []\n",
    "    \n",
    "    # Read and resize images (handling HEIC files)\n",
    "    for img_path in images_list:\n",
    "        if img_path.lower().endswith('.heic'):\n",
    "            img = read_heic_image(img_path)\n",
    "        else:\n",
    "            img = cv2.imread(img_path)\n",
    "        \n",
    "        # Resize each image to fit in the collage\n",
    "        img_resized = cv2.resize(img, (collage_width, collage_height))\n",
    "        images.append(img_resized)\n",
    "\n",
    "    # If horizontal, create a single row\n",
    "    if orientation == 'horizontal':\n",
    "        collage = np.hstack(images)  # Stack images horizontally\n",
    "    elif orientation == 'vertical':\n",
    "        collage = np.vstack(images)  # Stack images vertically\n",
    "    \n",
    "    return collage\n",
    "\n",
    "# Main function to process images and create a strip collage\n",
    "def main(images_dir):\n",
    "    # Filter images based on EXIF timestamp\n",
    "    filtered_images = filter_images_by_time(images_dir)\n",
    "    \n",
    "    if len(filtered_images) > 1:\n",
    "        # Create strip collage if there are enough filtered images\n",
    "        collage = create_strip_collage(filtered_images, orientation='horizontal')  # Change to 'vertical' if needed\n",
    "        if collage is not None:\n",
    "            # Save or display the collage\n",
    "            cv2.imwrite(\"collage_output_strip.jpg\", collage)\n",
    "            print(\"Collage image saved as 'collage_output_strip.jpg'\")\n",
    "            cv2.imshow('Strip Collage', collage)\n",
    "            cv2.waitKey(0)\n",
    "            cv2.destroyAllWindows()\n",
    "        else:\n",
    "            print(\"Failed to create collage.\")\n",
    "    else:\n",
    "        print(\"Not enough images to create a collage (must be more than one).\")\n",
    "\n",
    "if __name__ == \"__main__\":\n",
    "    # Directory containing images (update this path to your folder)\n",
    "    images_dir = \"C:/Users/user-307E7B3400/Downloads/drive-download-20250117T123348Z-001/\"  # Update this path\n",
    "    main(images_dir)"
   ]
  },
  {
   "cell_type": "code",
   "execution_count": 5,
   "id": "80b3b37c-46d8-48e8-988f-482677ddbc32",
   "metadata": {},
   "outputs": [
    {
     "name": "stdout",
     "output_type": "stream",
     "text": [
      "Current working directory: C:\\Users\\user-307E7B3400\n"
     ]
    }
   ],
   "source": [
    "import os\n",
    "print(\"Current working directory:\", os.getcwd())\n"
   ]
  }
 ],
 "metadata": {
  "kernelspec": {
   "display_name": "Python 3 (ipykernel)",
   "language": "python",
   "name": "python3"
  },
  "language_info": {
   "codemirror_mode": {
    "name": "ipython",
    "version": 3
   },
   "file_extension": ".py",
   "mimetype": "text/x-python",
   "name": "python",
   "nbconvert_exporter": "python",
   "pygments_lexer": "ipython3",
   "version": "3.12.7"
  }
 },
 "nbformat": 4,
 "nbformat_minor": 5
}
