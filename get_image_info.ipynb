{
 "cells": [
  {
   "cell_type": "code",
   "execution_count": 17,
   "metadata": {},
   "outputs": [],
   "source": [
    "import geopandas as gpd\n",
    "from PIL import Image, ImageFilter\n",
    "import pillow_heif\n",
    "from pillow_heif import HeifImagePlugin\n",
    "from PIL.ExifTags import TAGS\n",
    "import glob"
   ]
  },
  {
   "cell_type": "code",
   "execution_count": 19,
   "metadata": {},
   "outputs": [
    {
     "name": "stdout",
     "output_type": "stream",
     "text": [
      "./01 Road Use Classification\\1. Motorcycle Taxis\\IMG_3878.HEIC\n",
      "DateTime 2023:06:05 05:01:58\n",
      "./01 Road Use Classification\\1. Motorcycle Taxis\\IMG_3879.HEIC\n",
      "DateTime 2023:06:05 05:02:13\n"
     ]
    }
   ],
   "source": [
    "road_use_images = glob.glob(\"./01 Road Use Classification/*/*.HEIC\")\n",
    "\n",
    "for image in road_use_images[0:2]:\n",
    "    print(image)\n",
    "    image = Image.open(image)\n",
    "    exif_data = image._getexif()\n",
    "    for tag, value in exif_data.items():\n",
    "        if TAGS.get(tag) == 'DateTime':\n",
    "            print(\"DateTime\", value)\n",
    "        if TAGS.get(tag) == 'GPSInfo':\n",
    "            print(\"GPSInfo\", value)\n",
    "        if TAGS.get(tag) == 'Latitude':\n",
    "            print(\"Latitude\", value)"
   ]
  },
  {
   "cell_type": "code",
   "execution_count": null,
   "metadata": {},
   "outputs": [],
   "source": []
  }
 ],
 "metadata": {
  "kernelspec": {
   "display_name": "road",
   "language": "python",
   "name": "python3"
  },
  "language_info": {
   "codemirror_mode": {
    "name": "ipython",
    "version": 3
   },
   "file_extension": ".py",
   "mimetype": "text/x-python",
   "name": "python",
   "nbconvert_exporter": "python",
   "pygments_lexer": "ipython3",
   "version": "3.11.5"
  }
 },
 "nbformat": 4,
 "nbformat_minor": 2
}
